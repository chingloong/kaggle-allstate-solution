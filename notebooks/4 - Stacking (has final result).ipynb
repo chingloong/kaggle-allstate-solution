{
 "cells": [
  {
   "cell_type": "code",
   "execution_count": 43,
   "metadata": {
    "collapsed": false
   },
   "outputs": [],
   "source": [
    "import sys\n",
    "\n",
    "import pandas as pd\n",
    "import numpy as np\n",
    "\n",
    "import xgboost as xgb\n",
    "\n",
    "from pylightgbm.models import GBMRegressor\n",
    "\n",
    "from sklearn.base import TransformerMixin\n",
    "from sklearn.preprocessing import LabelEncoder\n",
    "from sklearn.metrics import mean_absolute_error\n",
    "from sklearn.model_selection import KFold, train_test_split\n",
    "\n",
    "from sklearn.linear_model import LinearRegression\n",
    "\n",
    "from hyperopt import fmin, tpe, hp, Trials"
   ]
  },
  {
   "cell_type": "markdown",
   "metadata": {},
   "source": [
    "Используемые модели\n",
    "\n",
    "1. XGB, много признаков. LB 1111.5\n",
    "2. XGB, много признаков, fair objective. LB 1107\n",
    "3. Keras, baseline с форума. LB 1112\n"
   ]
  },
  {
   "cell_type": "code",
   "execution_count": 45,
   "metadata": {
    "collapsed": false
   },
   "outputs": [],
   "source": [
    "df = pd.read_csv('../raw_data/train.csv')\n",
    "df_test = pd.read_csv('../raw_data/test.csv')\n",
    "\n",
    "xgb_oob = pd.read_csv('../run_res/feat_xgb_bag_oob.csv')\n",
    "xgb_oob_2 = pd.read_csv('../run_res/feat_xgb_bag_oob_2.csv')\n",
    "xgb_oob_3 = pd.read_csv('../run_res/feat_xgb_bag_oob_3.csv')\n",
    "xgb_oob_4 = pd.read_csv('../run_res/feat_xgb_bag_oob_4.csv')\n",
    "lgbm_oob = pd.read_csv('../run_res/feat_lgbm_bag_oob_1.csv')\n",
    "vw_oob = pd.read_csv('../run_res/vw_oob_train.csv')\n",
    "keras_oob = pd.read_csv('../run_res/keras_oob.csv')\n",
    "keras_oob = keras_oob.sort_values(['id'])\n",
    "\n",
    "xgb = pd.read_csv('../submissions/feat_xgb_bag.csv')\n",
    "xgb_2 = pd.read_csv('../submissions/feat_xgb_bag_2.csv')\n",
    "xgb_3 = pd.read_csv('../submissions/feat_xgb_bag_3.csv')\n",
    "xgb_4 = pd.read_csv('../submissions/feat_xgb_bag_4.csv')\n",
    "xgb_4_ub = pd.read_csv('../submissions/12_12_feat_xgb_unbagged.csv')\n",
    "lgbm = pd.read_csv('../submissions/feat_lgbm_bag_1.csv')\n",
    "keras = pd.read_csv('../submissions/submission_keras_shift_perm.csv')\n",
    "\n",
    "y_true = df.loss"
   ]
  },
  {
   "cell_type": "markdown",
   "metadata": {},
   "source": [
    "## Single model weight tuning"
   ]
  },
  {
   "cell_type": "code",
   "execution_count": 138,
   "metadata": {
    "collapsed": false
   },
   "outputs": [
    {
     "name": "stdout",
     "output_type": "stream",
     "text": [
      "1.0 1132.72564123\n",
      "1.005 1132.355411\n",
      "1.01 1132.10136341\n",
      "1.012 1132.03338538\n",
      "1.015 1131.96808649\n",
      "1.017 1131.94949788\n",
      "1.02 1131.95681427\n",
      "1.025 1132.06056853\n"
     ]
    }
   ],
   "source": [
    "weights = [1.000, 1.005, 1.010, 1.012, 1.015, 1.017, 1.020, 1.025]\n",
    "for w in weights:\n",
    "    print w, mean_absolute_error(y_true, xgb_oob.loss * w)"
   ]
  },
  {
   "cell_type": "markdown",
   "metadata": {},
   "source": [
    "Модель, которую учили на fair objective дает несмещенную оценку. Однако, как мы успели выяснить, в поиске весов с помощью hyperopt это не дало преимущество"
   ]
  },
  {
   "cell_type": "code",
   "execution_count": 139,
   "metadata": {
    "collapsed": false
   },
   "outputs": [
    {
     "name": "stdout",
     "output_type": "stream",
     "text": [
      "1.0 1130.67230189\n",
      "1.005 1130.57035767\n",
      "1.01 1130.5918462\n",
      "1.012 1130.63304388\n",
      "1.015 1130.72970727\n",
      "1.017 1130.81489397\n",
      "1.02 1130.97664542\n",
      "1.025 1131.33752149\n"
     ]
    }
   ],
   "source": [
    "weights = [1.000, 1.005, 1.010, 1.012, 1.015, 1.017, 1.020, 1.025]\n",
    "for w in weights:\n",
    "    print w, mean_absolute_error(y_true, xgb_oob_2.loss * w)"
   ]
  },
  {
   "cell_type": "code",
   "execution_count": 140,
   "metadata": {
    "collapsed": false
   },
   "outputs": [
    {
     "name": "stdout",
     "output_type": "stream",
     "text": [
      "1.0 1130.93285255\n",
      "1.005 1130.40568593\n",
      "1.01 1129.99481504\n",
      "1.012 1129.86228187\n",
      "1.015 1129.69867339\n",
      "1.017 1129.61164012\n",
      "1.02 1129.51551309\n",
      "1.025 1129.45060951\n",
      "1.03 1129.50693932\n"
     ]
    }
   ],
   "source": [
    "weights = [1.000, 1.005, 1.010, 1.012, 1.015, 1.017, 1.020, 1.025, 1.030]\n",
    "for w in weights:\n",
    "    print w, mean_absolute_error(y_true, keras_oob.loss * w)"
   ]
  },
  {
   "cell_type": "code",
   "execution_count": 345,
   "metadata": {
    "collapsed": false
   },
   "outputs": [
    {
     "name": "stdout",
     "output_type": "stream",
     "text": [
      "1.0 1133.8736824\n",
      "1.005 1133.53344987\n",
      "1.01 1133.30421409\n",
      "1.012 1133.245285\n",
      "1.015 1133.19264291\n",
      "1.017 1133.1812708\n",
      "1.02 1133.19571712\n",
      "1.025 1133.30727431\n",
      "1.03 1133.52470141\n"
     ]
    }
   ],
   "source": [
    "weights = [1.000, 1.005, 1.010, 1.012, 1.015, 1.017, 1.020, 1.025, 1.030]\n",
    "for w in weights:\n",
    "    print w, mean_absolute_error(y_true, lgbm_oob.loss * w)"
   ]
  },
  {
   "cell_type": "markdown",
   "metadata": {},
   "source": [
    "## Отправим среднее, скорректированное на смещение"
   ]
  },
  {
   "cell_type": "code",
   "execution_count": 47,
   "metadata": {
    "collapsed": true
   },
   "outputs": [],
   "source": [
    "new = keras.copy()"
   ]
  },
  {
   "cell_type": "code",
   "execution_count": 62,
   "metadata": {
    "collapsed": false
   },
   "outputs": [],
   "source": [
    "new['loss'] = keras['loss'] * 0.5 * 1.025 + xgb['loss'] * 0.5 * 1.017"
   ]
  },
  {
   "cell_type": "code",
   "execution_count": 63,
   "metadata": {
    "collapsed": true
   },
   "outputs": [],
   "source": [
    "new.to_csv('../submissions/12_1_keras_and_xgb_05_2.csv', index=False)"
   ]
  },
  {
   "cell_type": "markdown",
   "metadata": {},
   "source": [
    "Public LB - 1103.8"
   ]
  },
  {
   "cell_type": "markdown",
   "metadata": {
    "collapsed": false
   },
   "source": [
    "## Подберем параметры модели с помощью Hyperopt"
   ]
  },
  {
   "cell_type": "code",
   "execution_count": 126,
   "metadata": {
    "collapsed": false
   },
   "outputs": [],
   "source": [
    "from hyperopt import fmin, tpe, hp, Trials, STATUS_OK"
   ]
  },
  {
   "cell_type": "code",
   "execution_count": 353,
   "metadata": {
    "collapsed": true
   },
   "outputs": [],
   "source": [
    "space = {\n",
    "    'a': hp.normal('a', 0, 200),\n",
    "    'b1': hp.normal('b1', 0.5, 0.1),\n",
    "    'b2': hp.normal('b2', 0.5, 0.1)\n",
    "}"
   ]
  },
  {
   "cell_type": "code",
   "execution_count": 144,
   "metadata": {
    "collapsed": true
   },
   "outputs": [],
   "source": [
    "def stack_lin(params):\n",
    "    a = params['a']\n",
    "    b1 = params['b1']\n",
    "    b2 = params['b2']\n",
    "    \n",
    "    return mean_absolute_error(\n",
    "        y_true,\n",
    "        a + xgb_oob.loss.values * b1 + keras_oob.loss.values * b2\n",
    "    )"
   ]
  },
  {
   "cell_type": "code",
   "execution_count": 145,
   "metadata": {
    "collapsed": true
   },
   "outputs": [],
   "source": [
    "trials = Trials()"
   ]
  },
  {
   "cell_type": "code",
   "execution_count": 146,
   "metadata": {
    "collapsed": false
   },
   "outputs": [
    {
     "data": {
      "text/plain": [
       "{'a': -72.239753296384, 'b1': 0.5054321189391783, 'b2': 0.5442627701332745}"
      ]
     },
     "execution_count": 146,
     "metadata": {},
     "output_type": "execute_result"
    }
   ],
   "source": [
    "fmin(\n",
    "    fn=stack_lin,\n",
    "    space=space,\n",
    "    algo=tpe.suggest,\n",
    "    max_evals=400,\n",
    "    trials=trials\n",
    ")"
   ]
  },
  {
   "cell_type": "code",
   "execution_count": null,
   "metadata": {
    "collapsed": true
   },
   "outputs": [],
   "source": [
    "new['loss'] = keras.loss * 0.5442627701332745 + xgb.loss * 0.5054321189391783 - 72.239753296384"
   ]
  },
  {
   "cell_type": "code",
   "execution_count": null,
   "metadata": {
    "collapsed": true
   },
   "outputs": [],
   "source": [
    "new.to_csv('../submissions/12_1_keras_and_xgb_fmin.csv', index=False)"
   ]
  },
  {
   "cell_type": "markdown",
   "metadata": {},
   "source": [
    "LB 1103.2"
   ]
  },
  {
   "cell_type": "code",
   "execution_count": 370,
   "metadata": {
    "collapsed": true
   },
   "outputs": [],
   "source": [
    "def stack_lin(params):\n",
    "    a = params['a']\n",
    "    b1 = params['b1']\n",
    "    b2 = params['b2']\n",
    "    \n",
    "    return mean_absolute_error(\n",
    "        y_true,\n",
    "        a + xgb_oob_2.loss.values * b1 + keras_oob.loss.values * b2\n",
    "    )"
   ]
  },
  {
   "cell_type": "code",
   "execution_count": 289,
   "metadata": {
    "collapsed": true
   },
   "outputs": [],
   "source": [
    "trials = Trials()"
   ]
  },
  {
   "cell_type": "code",
   "execution_count": 290,
   "metadata": {
    "collapsed": false
   },
   "outputs": [
    {
     "data": {
      "text/plain": [
       "{'a': -38.65751977389668, 'b1': 0.5012842079976433, 'b2': 0.5302852035137959}"
      ]
     },
     "execution_count": 290,
     "metadata": {},
     "output_type": "execute_result"
    }
   ],
   "source": [
    "fmin(\n",
    "    fn=stack_lin,\n",
    "    space=space,\n",
    "    algo=tpe.suggest,\n",
    "    max_evals=5000,\n",
    "    trials=trials\n",
    ")"
   ]
  },
  {
   "cell_type": "code",
   "execution_count": 371,
   "metadata": {
    "collapsed": false
   },
   "outputs": [
    {
     "data": {
      "text/plain": [
       "1120.9175999882777"
      ]
     },
     "execution_count": 371,
     "metadata": {},
     "output_type": "execute_result"
    }
   ],
   "source": [
    "stack_lin({'a': -21.782875204319453, 'b1': 0.4885732254348957, 'b2': 0.5357543465564601})"
   ]
  },
  {
   "cell_type": "code",
   "execution_count": 173,
   "metadata": {
    "collapsed": false
   },
   "outputs": [],
   "source": [
    "new['loss'] = keras.loss * 0.5357543465564601 + xgb_2.loss * 0.4885732254348957 - 21.782875204319453\n",
    "new.to_csv('../submissions/12_2_keras_and_xgb_fmin_2.csv', index=False)"
   ]
  },
  {
   "cell_type": "markdown",
   "metadata": {},
   "source": [
    "LB 1102.8"
   ]
  },
  {
   "cell_type": "code",
   "execution_count": 355,
   "metadata": {
    "collapsed": true
   },
   "outputs": [],
   "source": [
    "def stack_lin(params):\n",
    "    a = params['a']\n",
    "    b1 = params['b1']\n",
    "    b2 = params['b2']\n",
    "    \n",
    "    return mean_absolute_error(\n",
    "        y_true,\n",
    "        a + xgb_oob_4.loss.values * b1 + keras_oob.loss.values * b2\n",
    "    )"
   ]
  },
  {
   "cell_type": "code",
   "execution_count": 360,
   "metadata": {
    "collapsed": true
   },
   "outputs": [],
   "source": [
    "trials = Trials()"
   ]
  },
  {
   "cell_type": "code",
   "execution_count": 361,
   "metadata": {
    "collapsed": false
   },
   "outputs": [
    {
     "data": {
      "text/plain": [
       "{'a': -51.71789861212561, 'b1': 0.6033401002422197, 'b2': 0.43307485493869324}"
      ]
     },
     "execution_count": 361,
     "metadata": {},
     "output_type": "execute_result"
    }
   ],
   "source": [
    "fmin(\n",
    "    fn=stack_lin,\n",
    "    space=space,\n",
    "    algo=tpe.suggest,\n",
    "    max_evals=5000,\n",
    "    trials=trials\n",
    ")"
   ]
  },
  {
   "cell_type": "code",
   "execution_count": 376,
   "metadata": {
    "collapsed": false
   },
   "outputs": [
    {
     "data": {
      "text/plain": [
       "1121.2924697143901"
      ]
     },
     "execution_count": 376,
     "metadata": {},
     "output_type": "execute_result"
    }
   ],
   "source": [
    "stack_lin({'a': -53.9048173779142, 'b1': 0.6451223116952068, 'b2': 0.38866552887318534})"
   ]
  },
  {
   "cell_type": "code",
   "execution_count": null,
   "metadata": {
    "collapsed": true
   },
   "outputs": [],
   "source": []
  },
  {
   "cell_type": "markdown",
   "metadata": {},
   "source": [
    "Error gives a boost =)"
   ]
  },
  {
   "cell_type": "code",
   "execution_count": 374,
   "metadata": {
    "collapsed": true
   },
   "outputs": [],
   "source": [
    "new['loss'] = keras.loss * 0.38866552887318534 + xgb_3.loss * 0.6451223116952068 - 53.9048173779142\n",
    "new.to_csv('../submissions/12_11_keras_and_xgb_fmin.csv', index=False)"
   ]
  },
  {
   "cell_type": "markdown",
   "metadata": {},
   "source": [
    "LB 1102.38"
   ]
  },
  {
   "cell_type": "code",
   "execution_count": 48,
   "metadata": {
    "collapsed": false
   },
   "outputs": [],
   "source": [
    "new['loss'] = keras.loss * 0.38866552887318534 + xgb_4_ub.loss * 0.6451223116952068 - 53.9048173779142\n",
    "new.to_csv('../submissions/12_12_keras_and_xgb_ub.csv', index=False)"
   ]
  },
  {
   "cell_type": "code",
   "execution_count": null,
   "metadata": {
    "collapsed": true
   },
   "outputs": [],
   "source": []
  },
  {
   "cell_type": "code",
   "execution_count": null,
   "metadata": {
    "collapsed": true
   },
   "outputs": [],
   "source": []
  },
  {
   "cell_type": "code",
   "execution_count": 363,
   "metadata": {
    "collapsed": true
   },
   "outputs": [],
   "source": [
    "space = {\n",
    "    'a': hp.normal('a', 0, 50),\n",
    "    'b1': hp.normal('b1', 0.7, 0.05),\n",
    "    'b2': hp.normal('b2', 0.15, 0.05),\n",
    "    'b3': hp.normal('b3', 0.15, 0.05),\n",
    "}"
   ]
  },
  {
   "cell_type": "code",
   "execution_count": 51,
   "metadata": {
    "collapsed": true
   },
   "outputs": [],
   "source": [
    "def stack_lin(params):\n",
    "    a = params['a']\n",
    "    b1 = params['b1']\n",
    "    b2 = params['b2']\n",
    "    b3 = params['b3']\n",
    "    \n",
    "    return mean_absolute_error(\n",
    "        y_true,\n",
    "        a + xgb_oob_4.loss.values * b1 + keras_oob.loss.values * b2 + lgbm_oob.loss.values * b3\n",
    "    )"
   ]
  },
  {
   "cell_type": "code",
   "execution_count": 365,
   "metadata": {
    "collapsed": true
   },
   "outputs": [],
   "source": [
    "trials = Trials()"
   ]
  },
  {
   "cell_type": "code",
   "execution_count": 366,
   "metadata": {
    "collapsed": false
   },
   "outputs": [],
   "source": [
    "best = fmin(\n",
    "    fn=stack_lin,\n",
    "    space=space,\n",
    "    algo=tpe.suggest,\n",
    "    max_evals=500,\n",
    "    trials=trials\n",
    ")"
   ]
  },
  {
   "cell_type": "code",
   "execution_count": 367,
   "metadata": {
    "collapsed": false
   },
   "outputs": [
    {
     "data": {
      "text/plain": [
       "{'a': -57.361560020671625,\n",
       " 'b1': 0.5302617790461561,\n",
       " 'b2': 0.41932675364098726,\n",
       " 'b3': 0.08812000286803214}"
      ]
     },
     "execution_count": 367,
     "metadata": {},
     "output_type": "execute_result"
    }
   ],
   "source": [
    "best"
   ]
  },
  {
   "cell_type": "code",
   "execution_count": 49,
   "metadata": {
    "collapsed": true
   },
   "outputs": [],
   "source": [
    "best = {'a': -57.361560020671625,\n",
    " 'b1': 0.5302617790461561,\n",
    " 'b2': 0.41932675364098726,\n",
    " 'b3': 0.08812000286803214}"
   ]
  },
  {
   "cell_type": "code",
   "execution_count": 52,
   "metadata": {
    "collapsed": false
   },
   "outputs": [
    {
     "data": {
      "text/plain": [
       "1119.4703989679722"
      ]
     },
     "execution_count": 52,
     "metadata": {},
     "output_type": "execute_result"
    }
   ],
   "source": [
    "stack_lin(best)"
   ]
  },
  {
   "cell_type": "code",
   "execution_count": null,
   "metadata": {
    "collapsed": true
   },
   "outputs": [],
   "source": []
  },
  {
   "cell_type": "code",
   "execution_count": 74,
   "metadata": {
    "collapsed": false
   },
   "outputs": [],
   "source": [
    "cv = KFold(n_splits=5, shuffle=True, random_state=2016)\n",
    "X = pd.DataFrame({'xgb': xgb_oob_4.loss.values, 'keras': keras_oob.loss.values, 'lgbm': lgbm_oob.loss.values})"
   ]
  },
  {
   "cell_type": "code",
   "execution_count": 75,
   "metadata": {
    "collapsed": false
   },
   "outputs": [
    {
     "name": "stdout",
     "output_type": "stream",
     "text": [
      "Train MAE = 1119.76\n",
      "Val MAE = 1118.43\n",
      "Train MAE = 1120.73\n",
      "Val MAE = 1114.25\n",
      "Train MAE = 1119.59\n",
      "Val MAE = 1118.88\n",
      "Train MAE = 1118.25\n",
      "Val MAE = 1124.35\n",
      "Train MAE = 1118.86\n",
      "Val MAE = 1121.66\n"
     ]
    }
   ],
   "source": [
    "space = {\n",
    "    'a': hp.normal('a', 0, 50),\n",
    "    'b1': hp.normal('b1', 0.5, 0.1),\n",
    "    'b2': hp.normal('b2', 0.5, 0.1),\n",
    "    'b3': hp.normal('b3', 0.15, 0.05),\n",
    "}\n",
    "\n",
    "bests = []\n",
    "\n",
    "for train, val in cv.split(X):\n",
    "    \n",
    "    X_train = X.iloc[train, :]\n",
    "    X_val = X.iloc[val, :]\n",
    "    y_train = y_true[train]\n",
    "    y_val = y_true[val]\n",
    "    \n",
    "    def stack_lin(params):\n",
    "        a = params['a']\n",
    "        b1 = params['b1']\n",
    "        b2 = params['b2']\n",
    "        b3 = params['b3']\n",
    "        \n",
    "        return mean_absolute_error(\n",
    "            y_train,\n",
    "            a + X_train.xgb.values * b1 + X_train.keras.values * b2 + X_train.lgbm.values * b3\n",
    "        )\n",
    "    \n",
    "    def stack_lin_val(params):\n",
    "        a = params['a']\n",
    "        b1 = params['b1']\n",
    "        b2 = params['b2']\n",
    "        b3 = params['b3']\n",
    "\n",
    "        return mean_absolute_error(\n",
    "            y_val,\n",
    "            a + X_val.xgb.values * b1 + X_val.keras.values * b2 + X_val.lgbm.values * b3\n",
    "        )\n",
    "    \n",
    "    trials = Trials()\n",
    "    \n",
    "    best = fmin(\n",
    "        fn=stack_lin,\n",
    "        space=space,\n",
    "        algo=tpe.suggest,\n",
    "        max_evals=500,\n",
    "        trials=trials\n",
    "    )\n",
    "    \n",
    "    bests.append(best)\n",
    "    \n",
    "    print 'Train MAE = {:.2f}'.format(stack_lin(best))\n",
    "    print 'Val MAE = {:.2f}'.format(stack_lin_val(best))\n",
    "    \n",
    "#     print 'Train MAE = {:.2f}'.format(stack_lin(best))"
   ]
  },
  {
   "cell_type": "code",
   "execution_count": 81,
   "metadata": {
    "collapsed": false
   },
   "outputs": [],
   "source": [
    "best = pd.DataFrame(bests).mean().to_dict()"
   ]
  },
  {
   "cell_type": "code",
   "execution_count": 83,
   "metadata": {
    "collapsed": false
   },
   "outputs": [
    {
     "data": {
      "text/plain": [
       "{'a': -57.754799516213623,\n",
       " 'b1': 0.45881800465856004,\n",
       " 'b2': 0.41931244038393689,\n",
       " 'b3': 0.1622399879004312}"
      ]
     },
     "execution_count": 83,
     "metadata": {},
     "output_type": "execute_result"
    }
   ],
   "source": [
    "best"
   ]
  },
  {
   "cell_type": "code",
   "execution_count": 82,
   "metadata": {
    "collapsed": false
   },
   "outputs": [],
   "source": [
    "new['loss'] = xgb_4.loss * best['b1'] + keras.loss * best['b2'] + lgbm.loss * best['b3'] + best['a']\n",
    "new.to_csv('../submissions/12_12_keras_lgbm_and_xgb_ub.csv', index=False)"
   ]
  },
  {
   "cell_type": "code",
   "execution_count": 346,
   "metadata": {
    "collapsed": true
   },
   "outputs": [],
   "source": [
    "foo = keras.loss * 0.52555598735069681 + xgb_3.loss * 0.50845475778486 - 42.88560549305209"
   ]
  },
  {
   "cell_type": "code",
   "execution_count": null,
   "metadata": {
    "collapsed": true
   },
   "outputs": [],
   "source": []
  },
  {
   "cell_type": "code",
   "execution_count": 348,
   "metadata": {
    "collapsed": true
   },
   "outputs": [],
   "source": [
    "new['loss'] = foo * 0.8 + lgbm.loss * 0.2 * 1.02\n",
    "new.to_csv('../submissions/12_9_keras_lgbm_and_xgb_fmin_2.csv', index=False)"
   ]
  },
  {
   "cell_type": "markdown",
   "metadata": {},
   "source": [
    "## MCMC"
   ]
  },
  {
   "cell_type": "code",
   "execution_count": 14,
   "metadata": {
    "collapsed": false
   },
   "outputs": [],
   "source": [
    "from pymc3 import *"
   ]
  },
  {
   "cell_type": "code",
   "execution_count": 19,
   "metadata": {
    "collapsed": true
   },
   "outputs": [],
   "source": [
    "size = 200\n",
    "true_intercept = 1\n",
    "true_slope = 2\n",
    "x = np.linspace(0, 1, size)\n",
    "# y = a + b*x\n",
    "true_regression_line = true_intercept + true_slope * x\n",
    "# add noise\n",
    "model1 = true_regression_line + np.random.normal(scale=.5, size=size) #Noisy\n",
    "model2 = true_regression_line + np.random.normal(scale=.2, size=size) #Less Noisy"
   ]
  },
  {
   "cell_type": "code",
   "execution_count": 35,
   "metadata": {
    "collapsed": true
   },
   "outputs": [],
   "source": [
    "data = dict(\n",
    "    x1=np.log(xgb_oob_4.loss.values)+200,\n",
    "    x2=np.log(keras_oob.loss.values)+200,\n",
    "#     x3=lgbm_oob.loss.values,\n",
    "    y=np.log(y_true.values)+200)"
   ]
  },
  {
   "cell_type": "code",
   "execution_count": 26,
   "metadata": {
    "collapsed": true
   },
   "outputs": [],
   "source": [
    "data = dict(x1=model1, x2=model2, y=true_regression_line)"
   ]
  },
  {
   "cell_type": "code",
   "execution_count": 32,
   "metadata": {
    "collapsed": false
   },
   "outputs": [],
   "source": [
    "start = {'Intercept': 0, 'x1': 0.5, 'x2': 0.5}"
   ]
  },
  {
   "cell_type": "code",
   "execution_count": 41,
   "metadata": {
    "collapsed": false
   },
   "outputs": [
    {
     "name": "stderr",
     "output_type": "stream",
     "text": [
      "100%|██████████| 1000/1000 [00:07<00:00, 142.45it/s]\n"
     ]
    }
   ],
   "source": [
    "with Model() as model:\n",
    "    # specify glm and pass in data. The resulting linear model, its likelihood and \n",
    "    # and all its parameters are automatically added to our model.\n",
    "    glm.glm('y ~ x1 + x2', data)\n",
    "    step = NUTS() # Instantiate MCMC sampling algorithm\n",
    "    trace = sample(1000, step, progressbar=True)"
   ]
  },
  {
   "cell_type": "code",
   "execution_count": 42,
   "metadata": {
    "collapsed": false,
    "scrolled": true
   },
   "outputs": [
    {
     "ename": "ValueError",
     "evalue": "v cannot be empty",
     "output_type": "error",
     "traceback": [
      "\u001b[0;31m---------------------------------------------------------------------------\u001b[0m",
      "\u001b[0;31mValueError\u001b[0m                                Traceback (most recent call last)",
      "\u001b[0;32m<ipython-input-42-fd4a91236689>\u001b[0m in \u001b[0;36m<module>\u001b[0;34m()\u001b[0m\n\u001b[1;32m      1\u001b[0m \u001b[0mplt\u001b[0m\u001b[0;34m.\u001b[0m\u001b[0mfigure\u001b[0m\u001b[0;34m(\u001b[0m\u001b[0mfigsize\u001b[0m\u001b[0;34m=\u001b[0m\u001b[0;34m(\u001b[0m\u001b[0;36m7\u001b[0m\u001b[0;34m,\u001b[0m \u001b[0;36m7\u001b[0m\u001b[0;34m)\u001b[0m\u001b[0;34m)\u001b[0m\u001b[0;34m\u001b[0m\u001b[0m\n\u001b[0;32m----> 2\u001b[0;31m \u001b[0mtraceplot\u001b[0m\u001b[0;34m(\u001b[0m\u001b[0mtrace\u001b[0m\u001b[0;34m)\u001b[0m\u001b[0;34m\u001b[0m\u001b[0m\n\u001b[0m\u001b[1;32m      3\u001b[0m \u001b[0mplt\u001b[0m\u001b[0;34m.\u001b[0m\u001b[0mtight_layout\u001b[0m\u001b[0;34m(\u001b[0m\u001b[0;34m)\u001b[0m\u001b[0;34m;\u001b[0m\u001b[0;34m\u001b[0m\u001b[0m\n",
      "\u001b[0;32m/home/ledovsky/anaconda2/lib/python2.7/site-packages/pymc3/plots.pyc\u001b[0m in \u001b[0;36mtraceplot\u001b[0;34m(trace, varnames, transform, figsize, lines, combined, plot_transformed, grid, alpha, priors, prior_alpha, prior_style, ax)\u001b[0m\n\u001b[1;32m     85\u001b[0m                 \u001b[0mhistplot_op\u001b[0m\u001b[0;34m(\u001b[0m\u001b[0max\u001b[0m\u001b[0;34m[\u001b[0m\u001b[0mi\u001b[0m\u001b[0;34m,\u001b[0m \u001b[0;36m0\u001b[0m\u001b[0;34m]\u001b[0m\u001b[0;34m,\u001b[0m \u001b[0md\u001b[0m\u001b[0;34m,\u001b[0m \u001b[0malpha\u001b[0m\u001b[0;34m=\u001b[0m\u001b[0malpha\u001b[0m\u001b[0;34m)\u001b[0m\u001b[0;34m\u001b[0m\u001b[0m\n\u001b[1;32m     86\u001b[0m             \u001b[0;32melse\u001b[0m\u001b[0;34m:\u001b[0m\u001b[0;34m\u001b[0m\u001b[0m\n\u001b[0;32m---> 87\u001b[0;31m                 \u001b[0mkdeplot_op\u001b[0m\u001b[0;34m(\u001b[0m\u001b[0max\u001b[0m\u001b[0;34m[\u001b[0m\u001b[0mi\u001b[0m\u001b[0;34m,\u001b[0m \u001b[0;36m0\u001b[0m\u001b[0;34m]\u001b[0m\u001b[0;34m,\u001b[0m \u001b[0md\u001b[0m\u001b[0;34m,\u001b[0m \u001b[0mprior\u001b[0m\u001b[0;34m,\u001b[0m \u001b[0mprior_alpha\u001b[0m\u001b[0;34m,\u001b[0m \u001b[0mprior_style\u001b[0m\u001b[0;34m)\u001b[0m\u001b[0;34m\u001b[0m\u001b[0m\n\u001b[0m\u001b[1;32m     88\u001b[0m             \u001b[0max\u001b[0m\u001b[0;34m[\u001b[0m\u001b[0mi\u001b[0m\u001b[0;34m,\u001b[0m \u001b[0;36m0\u001b[0m\u001b[0;34m]\u001b[0m\u001b[0;34m.\u001b[0m\u001b[0mset_title\u001b[0m\u001b[0;34m(\u001b[0m\u001b[0mstr\u001b[0m\u001b[0;34m(\u001b[0m\u001b[0mv\u001b[0m\u001b[0;34m)\u001b[0m\u001b[0;34m)\u001b[0m\u001b[0;34m\u001b[0m\u001b[0m\n\u001b[1;32m     89\u001b[0m             \u001b[0max\u001b[0m\u001b[0;34m[\u001b[0m\u001b[0mi\u001b[0m\u001b[0;34m,\u001b[0m \u001b[0;36m0\u001b[0m\u001b[0;34m]\u001b[0m\u001b[0;34m.\u001b[0m\u001b[0mgrid\u001b[0m\u001b[0;34m(\u001b[0m\u001b[0mgrid\u001b[0m\u001b[0;34m)\u001b[0m\u001b[0;34m\u001b[0m\u001b[0m\n",
      "\u001b[0;32m/home/ledovsky/anaconda2/lib/python2.7/site-packages/pymc3/plots.pyc\u001b[0m in \u001b[0;36mkdeplot_op\u001b[0;34m(ax, data, prior, prior_alpha, prior_style)\u001b[0m\n\u001b[1;32m    122\u001b[0m         \u001b[0md\u001b[0m \u001b[0;34m=\u001b[0m \u001b[0mdata\u001b[0m\u001b[0;34m[\u001b[0m\u001b[0;34m:\u001b[0m\u001b[0;34m,\u001b[0m \u001b[0mi\u001b[0m\u001b[0;34m]\u001b[0m\u001b[0;34m\u001b[0m\u001b[0m\n\u001b[1;32m    123\u001b[0m         \u001b[0;32mtry\u001b[0m\u001b[0;34m:\u001b[0m\u001b[0;34m\u001b[0m\u001b[0m\n\u001b[0;32m--> 124\u001b[0;31m             \u001b[0mdensity\u001b[0m\u001b[0;34m,\u001b[0m \u001b[0ml\u001b[0m\u001b[0;34m,\u001b[0m \u001b[0mu\u001b[0m \u001b[0;34m=\u001b[0m \u001b[0mfast_kde\u001b[0m\u001b[0;34m(\u001b[0m\u001b[0md\u001b[0m\u001b[0;34m)\u001b[0m\u001b[0;34m\u001b[0m\u001b[0m\n\u001b[0m\u001b[1;32m    125\u001b[0m             \u001b[0mx\u001b[0m \u001b[0;34m=\u001b[0m \u001b[0mnp\u001b[0m\u001b[0;34m.\u001b[0m\u001b[0mlinspace\u001b[0m\u001b[0;34m(\u001b[0m\u001b[0ml\u001b[0m\u001b[0;34m,\u001b[0m \u001b[0mu\u001b[0m\u001b[0;34m,\u001b[0m \u001b[0mlen\u001b[0m\u001b[0;34m(\u001b[0m\u001b[0mdensity\u001b[0m\u001b[0;34m)\u001b[0m\u001b[0;34m)\u001b[0m\u001b[0;34m\u001b[0m\u001b[0m\n\u001b[1;32m    126\u001b[0m \u001b[0;34m\u001b[0m\u001b[0m\n",
      "\u001b[0;32m/home/ledovsky/anaconda2/lib/python2.7/site-packages/pymc3/plots.pyc\u001b[0m in \u001b[0;36mfast_kde\u001b[0;34m(x)\u001b[0m\n\u001b[1;32m    836\u001b[0m \u001b[0;34m\u001b[0m\u001b[0m\n\u001b[1;32m    837\u001b[0m     \u001b[0mgrid\u001b[0m \u001b[0;34m=\u001b[0m \u001b[0mnp\u001b[0m\u001b[0;34m.\u001b[0m\u001b[0mconcatenate\u001b[0m\u001b[0;34m(\u001b[0m\u001b[0;34m[\u001b[0m\u001b[0mgrid\u001b[0m\u001b[0;34m[\u001b[0m\u001b[0mnpad\u001b[0m\u001b[0;34m:\u001b[0m \u001b[0;36m0\u001b[0m\u001b[0;34m:\u001b[0m \u001b[0;34m-\u001b[0m\u001b[0;36m1\u001b[0m\u001b[0;34m]\u001b[0m\u001b[0;34m,\u001b[0m \u001b[0mgrid\u001b[0m\u001b[0;34m,\u001b[0m \u001b[0mgrid\u001b[0m\u001b[0;34m[\u001b[0m\u001b[0mnx\u001b[0m\u001b[0;34m:\u001b[0m \u001b[0mnx\u001b[0m \u001b[0;34m-\u001b[0m \u001b[0mnpad\u001b[0m\u001b[0;34m:\u001b[0m \u001b[0;34m-\u001b[0m\u001b[0;36m1\u001b[0m\u001b[0;34m]\u001b[0m\u001b[0;34m]\u001b[0m\u001b[0;34m)\u001b[0m\u001b[0;34m\u001b[0m\u001b[0m\n\u001b[0;32m--> 838\u001b[0;31m     \u001b[0mgrid\u001b[0m \u001b[0;34m=\u001b[0m \u001b[0mconvolve\u001b[0m\u001b[0;34m(\u001b[0m\u001b[0mgrid\u001b[0m\u001b[0;34m,\u001b[0m \u001b[0mkernel\u001b[0m\u001b[0;34m,\u001b[0m \u001b[0mmode\u001b[0m\u001b[0;34m=\u001b[0m\u001b[0;34m'same'\u001b[0m\u001b[0;34m)\u001b[0m\u001b[0;34m[\u001b[0m\u001b[0mnpad\u001b[0m\u001b[0;34m:\u001b[0m \u001b[0mnpad\u001b[0m \u001b[0;34m+\u001b[0m \u001b[0mnx\u001b[0m\u001b[0;34m]\u001b[0m\u001b[0;34m\u001b[0m\u001b[0m\n\u001b[0m\u001b[1;32m    839\u001b[0m \u001b[0;34m\u001b[0m\u001b[0m\n\u001b[1;32m    840\u001b[0m     \u001b[0mnorm_factor\u001b[0m \u001b[0;34m=\u001b[0m \u001b[0mn\u001b[0m \u001b[0;34m*\u001b[0m \u001b[0mdx\u001b[0m \u001b[0;34m*\u001b[0m \u001b[0;34m(\u001b[0m\u001b[0;36m2\u001b[0m \u001b[0;34m*\u001b[0m \u001b[0mnp\u001b[0m\u001b[0;34m.\u001b[0m\u001b[0mpi\u001b[0m \u001b[0;34m*\u001b[0m \u001b[0mstd_x\u001b[0m \u001b[0;34m**\u001b[0m \u001b[0;36m2\u001b[0m \u001b[0;34m*\u001b[0m \u001b[0mscotts_factor\u001b[0m \u001b[0;34m**\u001b[0m \u001b[0;36m2\u001b[0m\u001b[0;34m)\u001b[0m \u001b[0;34m**\u001b[0m \u001b[0;36m0.5\u001b[0m\u001b[0;34m\u001b[0m\u001b[0m\n",
      "\u001b[0;32m/home/ledovsky/anaconda2/lib/python2.7/site-packages/scipy/signal/signaltools.pyc\u001b[0m in \u001b[0;36mconvolve\u001b[0;34m(in1, in2, mode)\u001b[0m\n\u001b[1;32m    456\u001b[0m     if volume.ndim == kernel.ndim == 1 and (volume.size >= kernel.size or\n\u001b[1;32m    457\u001b[0m                                             mode != 'same'):\n\u001b[0;32m--> 458\u001b[0;31m         \u001b[0;32mreturn\u001b[0m \u001b[0mnp\u001b[0m\u001b[0;34m.\u001b[0m\u001b[0mconvolve\u001b[0m\u001b[0;34m(\u001b[0m\u001b[0mvolume\u001b[0m\u001b[0;34m,\u001b[0m \u001b[0mkernel\u001b[0m\u001b[0;34m,\u001b[0m \u001b[0mmode\u001b[0m\u001b[0;34m)\u001b[0m\u001b[0;34m\u001b[0m\u001b[0m\n\u001b[0m\u001b[1;32m    459\u001b[0m \u001b[0;34m\u001b[0m\u001b[0m\n\u001b[1;32m    460\u001b[0m     \u001b[0;31m# Reverse in all dimensions\u001b[0m\u001b[0;34m\u001b[0m\u001b[0;34m\u001b[0m\u001b[0m\n",
      "\u001b[0;32m/home/ledovsky/anaconda2/lib/python2.7/site-packages/numpy/core/numeric.pyc\u001b[0m in \u001b[0;36mconvolve\u001b[0;34m(a, v, mode)\u001b[0m\n\u001b[1;32m   1009\u001b[0m         \u001b[0;32mraise\u001b[0m \u001b[0mValueError\u001b[0m\u001b[0;34m(\u001b[0m\u001b[0;34m'a cannot be empty'\u001b[0m\u001b[0;34m)\u001b[0m\u001b[0;34m\u001b[0m\u001b[0m\n\u001b[1;32m   1010\u001b[0m     \u001b[0;32mif\u001b[0m \u001b[0mlen\u001b[0m\u001b[0;34m(\u001b[0m\u001b[0mv\u001b[0m\u001b[0;34m)\u001b[0m \u001b[0;34m==\u001b[0m \u001b[0;36m0\u001b[0m\u001b[0;34m:\u001b[0m\u001b[0;34m\u001b[0m\u001b[0m\n\u001b[0;32m-> 1011\u001b[0;31m         \u001b[0;32mraise\u001b[0m \u001b[0mValueError\u001b[0m\u001b[0;34m(\u001b[0m\u001b[0;34m'v cannot be empty'\u001b[0m\u001b[0;34m)\u001b[0m\u001b[0;34m\u001b[0m\u001b[0m\n\u001b[0m\u001b[1;32m   1012\u001b[0m     \u001b[0mmode\u001b[0m \u001b[0;34m=\u001b[0m \u001b[0m_mode_from_name\u001b[0m\u001b[0;34m(\u001b[0m\u001b[0mmode\u001b[0m\u001b[0;34m)\u001b[0m\u001b[0;34m\u001b[0m\u001b[0m\n\u001b[1;32m   1013\u001b[0m     \u001b[0;32mreturn\u001b[0m \u001b[0mmultiarray\u001b[0m\u001b[0;34m.\u001b[0m\u001b[0mcorrelate\u001b[0m\u001b[0;34m(\u001b[0m\u001b[0ma\u001b[0m\u001b[0;34m,\u001b[0m \u001b[0mv\u001b[0m\u001b[0;34m[\u001b[0m\u001b[0;34m:\u001b[0m\u001b[0;34m:\u001b[0m\u001b[0;34m-\u001b[0m\u001b[0;36m1\u001b[0m\u001b[0;34m]\u001b[0m\u001b[0;34m,\u001b[0m \u001b[0mmode\u001b[0m\u001b[0;34m)\u001b[0m\u001b[0;34m\u001b[0m\u001b[0m\n",
      "\u001b[0;31mValueError\u001b[0m: v cannot be empty"
     ]
    },
    {
     "data": {
      "text/plain": [
       "<matplotlib.figure.Figure at 0x7f708040d7d0>"
      ]
     },
     "metadata": {},
     "output_type": "display_data"
    },
    {
     "data": {
      "image/png": "[encoded data removed]",
      "text/plain": [
       "<matplotlib.figure.Figure at 0x7f708040db10>"
      ]
     },
     "metadata": {},
     "output_type": "display_data"
    }
   ],
   "source": [
    "plt.figure(figsize=(7, 7))\n",
    "traceplot(trace)\n",
    "plt.tight_layout();"
   ]
  },
  {
   "cell_type": "code",
   "execution_count": 39,
   "metadata": {
    "collapsed": false
   },
   "outputs": [
    {
     "data": {
      "text/plain": [
       "0.4976200940274304"
      ]
     },
     "execution_count": 39,
     "metadata": {},
     "output_type": "execute_result"
    }
   ],
   "source": [
    "np.median(trace.x1)"
   ]
  },
  {
   "cell_type": "code",
   "execution_count": 40,
   "metadata": {
    "collapsed": false
   },
   "outputs": [
    {
     "data": {
      "text/plain": [
       "0.50236434848300282"
      ]
     },
     "execution_count": 40,
     "metadata": {},
     "output_type": "execute_result"
    }
   ],
   "source": [
    "np.median(trace.x2)"
   ]
  },
  {
   "cell_type": "markdown",
   "metadata": {},
   "source": [
    "## Elastic Net"
   ]
  },
  {
   "cell_type": "code",
   "execution_count": 85,
   "metadata": {
    "collapsed": true
   },
   "outputs": [],
   "source": [
    "from sklearn.linear_model import ElasticNet\n",
    "from sklearn.model_selection import train_test_split, KFold"
   ]
  },
  {
   "cell_type": "code",
   "execution_count": 86,
   "metadata": {
    "collapsed": true
   },
   "outputs": [],
   "source": [
    "en = ElasticNet(alpha=1, l1_ratio=0)"
   ]
  },
  {
   "cell_type": "code",
   "execution_count": 150,
   "metadata": {
    "collapsed": true
   },
   "outputs": [],
   "source": [
    "X = xgb_oob_2.copy()\n",
    "X['xgb'] = X['loss']\n",
    "X['keras'] = keras_oob['loss'].values\n",
    "X.drop(['loss'], 1, inplace=True)"
   ]
  },
  {
   "cell_type": "code",
   "execution_count": 151,
   "metadata": {
    "collapsed": false
   },
   "outputs": [
    {
     "data": {
      "text/html": [
       "<div>\n",
       "<table border=\"1\" class=\"dataframe\">\n",
       "  <thead>\n",
       "    <tr style=\"text-align: right;\">\n",
       "      <th></th>\n",
       "      <th>id</th>\n",
       "      <th>xgb</th>\n",
       "      <th>keras</th>\n",
       "    </tr>\n",
       "  </thead>\n",
       "  <tbody>\n",
       "    <tr>\n",
       "      <th>0</th>\n",
       "      <td>1</td>\n",
       "      <td>2025.304932</td>\n",
       "      <td>1802.697144</td>\n",
       "    </tr>\n",
       "    <tr>\n",
       "      <th>1</th>\n",
       "      <td>2</td>\n",
       "      <td>1707.920410</td>\n",
       "      <td>1462.424329</td>\n",
       "    </tr>\n",
       "    <tr>\n",
       "      <th>2</th>\n",
       "      <td>5</td>\n",
       "      <td>4328.561035</td>\n",
       "      <td>3971.401782</td>\n",
       "    </tr>\n",
       "    <tr>\n",
       "      <th>3</th>\n",
       "      <td>10</td>\n",
       "      <td>1121.829956</td>\n",
       "      <td>975.925171</td>\n",
       "    </tr>\n",
       "    <tr>\n",
       "      <th>4</th>\n",
       "      <td>11</td>\n",
       "      <td>2922.152588</td>\n",
       "      <td>3152.145312</td>\n",
       "    </tr>\n",
       "  </tbody>\n",
       "</table>\n",
       "</div>"
      ],
      "text/plain": [
       "   id          xgb        keras\n",
       "0   1  2025.304932  1802.697144\n",
       "1   2  1707.920410  1462.424329\n",
       "2   5  4328.561035  3971.401782\n",
       "3  10  1121.829956   975.925171\n",
       "4  11  2922.152588  3152.145312"
      ]
     },
     "execution_count": 151,
     "metadata": {},
     "output_type": "execute_result"
    }
   ],
   "source": [
    "X.head()"
   ]
  },
  {
   "cell_type": "code",
   "execution_count": 152,
   "metadata": {
    "collapsed": false
   },
   "outputs": [
    {
     "data": {
      "text/plain": [
       "0    2213.18\n",
       "1    1283.60\n",
       "2    3005.09\n",
       "3     939.85\n",
       "4    2763.85\n",
       "Name: loss, dtype: float64"
      ]
     },
     "execution_count": 152,
     "metadata": {},
     "output_type": "execute_result"
    }
   ],
   "source": [
    "y_true.head()"
   ]
  },
  {
   "cell_type": "code",
   "execution_count": 155,
   "metadata": {
    "collapsed": true
   },
   "outputs": [],
   "source": [
    "cv = KFold(n_splits=3, shuffle=True, random_state=2016)"
   ]
  },
  {
   "cell_type": "code",
   "execution_count": 100,
   "metadata": {
    "collapsed": true
   },
   "outputs": [],
   "source": [
    "en = ElasticNet(alpha=0, l1_ratio=0)"
   ]
  },
  {
   "cell_type": "code",
   "execution_count": 103,
   "metadata": {
    "collapsed": false
   },
   "outputs": [
    {
     "name": "stderr",
     "output_type": "stream",
     "text": [
      "/home/ledovsky/anaconda2/lib/python2.7/site-packages/ipykernel/__main__.py:9: UserWarning: With alpha=0, this algorithm does not converge well. You are advised to use the LinearRegression estimator\n"
     ]
    },
    {
     "name": "stdout",
     "output_type": "stream",
     "text": [
      "1149.43435725\n",
      "1147.93380909\n",
      "1149.94215029\n",
      "1143.26954362\n",
      "1148.82200132\n",
      "1148.96563786\n",
      "1147.11613251\n",
      "1154.26022729\n",
      "1148.60741388\n",
      "1149.59111876\n"
     ]
    }
   ],
   "source": [
    "for train, test in cv.split(X):\n",
    "    xtrain = X.iloc[train, :]\n",
    "    xtest = X.iloc[test, :]\n",
    "    ytrain = y_true.iloc[train]\n",
    "    ytest =  y_true.iloc[test]\n",
    "    en = ElasticNet(alpha=0, l1_ratio=0, warm_start=True)\n",
    "    en.coef_ = np.array([0.45881800465856004, 0.41931244038393689, 0.1622399879004312])\n",
    "    en.intercept_ = -57.754799516213623\n",
    "    en.fit(xtrain, ytrain)\n",
    "    print mean_absolute_error(en.predict(xtrain), ytrain)\n",
    "    print mean_absolute_error(en.predict(xtest), ytest)"
   ]
  },
  {
   "cell_type": "code",
   "execution_count": 96,
   "metadata": {
    "collapsed": false
   },
   "outputs": [],
   "source": [
    "en.coef_ = np.array([0.45881800465856004, 0.41931244038393689, 0.1622399879004312])"
   ]
  },
  {
   "cell_type": "code",
   "execution_count": 95,
   "metadata": {
    "collapsed": false
   },
   "outputs": [],
   "source": [
    "en.intercept_ = -57.754799516213623"
   ]
  },
  {
   "cell_type": "code",
   "execution_count": null,
   "metadata": {
    "collapsed": true
   },
   "outputs": [],
   "source": [
    "en.set_params()"
   ]
  },
  {
   "cell_type": "markdown",
   "metadata": {
    "collapsed": true
   },
   "source": [
    "## Попробуем коррекцию больших ошибок"
   ]
  },
  {
   "cell_type": "code",
   "execution_count": 226,
   "metadata": {
    "collapsed": true
   },
   "outputs": [],
   "source": [
    "stacked_oob = keras_oob.loss.values * 0.5357543465564601 + xgb_oob_2.loss * 0.4885732254348957 - 21.782875204319453"
   ]
  },
  {
   "cell_type": "code",
   "execution_count": 177,
   "metadata": {
    "collapsed": false
   },
   "outputs": [
    {
     "data": {
      "text/plain": [
       "1120.9737153156284"
      ]
     },
     "execution_count": 177,
     "metadata": {},
     "output_type": "execute_result"
    }
   ],
   "source": [
    "mean_absolute_error(stacked_oob, y_true)"
   ]
  },
  {
   "cell_type": "code",
   "execution_count": 280,
   "metadata": {
    "collapsed": true
   },
   "outputs": [],
   "source": [
    "def correct_high(params):\n",
    "#     threshold = params['threshold']\n",
    "    coef = params['coef']\n",
    "\n",
    "    return mean_absolute_error(\n",
    "        y_true,\n",
    "        stacked_oob * np.where((stacked_oob >= 3000) * (stacked_oob <= 100000), (1 + coef), 1)\n",
    "    )"
   ]
  },
  {
   "cell_type": "code",
   "execution_count": 281,
   "metadata": {
    "collapsed": true
   },
   "outputs": [],
   "source": [
    "space = {\n",
    "#     'threshold': hp.quniform('threshold', 3000, 20000, 1000),\n",
    "    'coef': hp.normal('coef', 0, 0.05)\n",
    "}"
   ]
  },
  {
   "cell_type": "code",
   "execution_count": 282,
   "metadata": {
    "collapsed": true
   },
   "outputs": [],
   "source": [
    "trials = Trials()"
   ]
  },
  {
   "cell_type": "code",
   "execution_count": 283,
   "metadata": {
    "collapsed": false,
    "scrolled": true
   },
   "outputs": [
    {
     "data": {
      "text/plain": [
       "{'coef': 0.004778480549055375}"
      ]
     },
     "execution_count": 283,
     "metadata": {},
     "output_type": "execute_result"
    }
   ],
   "source": [
    "fmin(\n",
    "    fn=correct_high,\n",
    "    space=space,\n",
    "    algo=tpe.suggest,\n",
    "    max_evals=400,\n",
    "    trials=trials\n",
    ")"
   ]
  },
  {
   "cell_type": "code",
   "execution_count": 284,
   "metadata": {
    "collapsed": false
   },
   "outputs": [
    {
     "data": {
      "text/plain": [
       "1120.9346065520747"
      ]
     },
     "execution_count": 284,
     "metadata": {},
     "output_type": "execute_result"
    }
   ],
   "source": [
    "correct_high({'coef': 0.004778480549055375})"
   ]
  },
  {
   "cell_type": "code",
   "execution_count": 274,
   "metadata": {
    "collapsed": false
   },
   "outputs": [
    {
     "data": {
      "text/plain": [
       "16862"
      ]
     },
     "execution_count": 274,
     "metadata": {},
     "output_type": "execute_result"
    }
   ],
   "source": [
    "np.sum((stacked_oob >= 300) * (stacked_oob <= 1000))"
   ]
  },
  {
   "cell_type": "code",
   "execution_count": 230,
   "metadata": {
    "collapsed": true
   },
   "outputs": [],
   "source": [
    "%matplotlib inline\n",
    "import matplotlib.pyplot as plt\n",
    "import seaborn as sns"
   ]
  },
  {
   "cell_type": "code",
   "execution_count": 240,
   "metadata": {
    "collapsed": false
   },
   "outputs": [
    {
     "data": {
      "text/plain": [
       "(array([  0.00000000e+00,   0.00000000e+00,   0.00000000e+00,\n",
       "          0.00000000e+00,   0.00000000e+00,   0.00000000e+00,\n",
       "          4.00000000e+00,   4.90000000e+01,   4.15000000e+02,\n",
       "          4.16200000e+03,   1.41060000e+04,   2.57740000e+04,\n",
       "          3.20560000e+04,   3.01290000e+04,   2.49270000e+04,\n",
       "          1.99860000e+04,   1.51370000e+04,   1.06410000e+04,\n",
       "          6.33200000e+03,   3.03600000e+03,   1.17000000e+03,\n",
       "          3.14000000e+02,   6.00000000e+01,   1.80000000e+01,\n",
       "          2.00000000e+00,   0.00000000e+00,   0.00000000e+00,\n",
       "          0.00000000e+00,   0.00000000e+00,   0.00000000e+00]),\n",
       " array([ 204.        ,  204.26666667,  204.53333333,  204.8       ,\n",
       "         205.06666667,  205.33333333,  205.6       ,  205.86666667,\n",
       "         206.13333333,  206.4       ,  206.66666667,  206.93333333,\n",
       "         207.2       ,  207.46666667,  207.73333333,  208.        ,\n",
       "         208.26666667,  208.53333333,  208.8       ,  209.06666667,\n",
       "         209.33333333,  209.6       ,  209.86666667,  210.13333333,\n",
       "         210.4       ,  210.66666667,  210.93333333,  211.2       ,\n",
       "         211.46666667,  211.73333333,  212.        ]),\n",
       " <a list of 30 Patch objects>)"
      ]
     },
     "execution_count": 240,
     "metadata": {},
     "output_type": "execute_result"
    },
    {
     "data": {
      "image/png": "[encoded data removed]",
      "text/plain": [
       "<matplotlib.figure.Figure at 0x7f19e4a49e50>"
      ]
     },
     "metadata": {},
     "output_type": "display_data"
    }
   ],
   "source": [
    "plt.hist((np.log(stacked_oob) + 200), 30, range=[204, 212], facecolor='gray', align='mid')"
   ]
  },
  {
   "cell_type": "code",
   "execution_count": 256,
   "metadata": {
    "collapsed": false
   },
   "outputs": [
    {
     "data": {
      "text/plain": [
       "403.42879349273511"
      ]
     },
     "execution_count": 256,
     "metadata": {},
     "output_type": "execute_result"
    }
   ],
   "source": [
    "np.exp(206 - 200)"
   ]
  },
  {
   "cell_type": "code",
   "execution_count": 257,
   "metadata": {
    "collapsed": false
   },
   "outputs": [
    {
     "data": {
      "text/plain": [
       "1096.6331584284585"
      ]
     },
     "execution_count": 257,
     "metadata": {},
     "output_type": "execute_result"
    }
   ],
   "source": [
    "np.exp(207 - 200)"
   ]
  },
  {
   "cell_type": "code",
   "execution_count": 218,
   "metadata": {
    "collapsed": true
   },
   "outputs": [],
   "source": [
    "error = np.abs(y_true - stacked_oob)"
   ]
  },
  {
   "cell_type": "code",
   "execution_count": 238,
   "metadata": {
    "collapsed": false
   },
   "outputs": [
    {
     "data": {
      "text/plain": [
       "(array([  1.20000000e+01,   2.40000000e+01,   3.00000000e+01,\n",
       "          5.70000000e+01,   1.07000000e+02,   2.73000000e+02,\n",
       "          8.26000000e+02,   1.93800000e+03,   5.32100000e+03,\n",
       "          1.09500000e+04,   1.62160000e+04,   1.94790000e+04,\n",
       "          2.23140000e+04,   2.31290000e+04,   2.17570000e+04,\n",
       "          1.92980000e+04,   1.65910000e+04,   1.26120000e+04,\n",
       "          8.37200000e+03,   4.98200000e+03,   2.50200000e+03,\n",
       "          1.00400000e+03,   3.58000000e+02,   1.05000000e+02,\n",
       "          2.50000000e+01,   1.10000000e+01,   4.00000000e+00,\n",
       "          2.00000000e+00,   2.00000000e+00,   0.00000000e+00]),\n",
       " array([ 204.        ,  204.26666667,  204.53333333,  204.8       ,\n",
       "         205.06666667,  205.33333333,  205.6       ,  205.86666667,\n",
       "         206.13333333,  206.4       ,  206.66666667,  206.93333333,\n",
       "         207.2       ,  207.46666667,  207.73333333,  208.        ,\n",
       "         208.26666667,  208.53333333,  208.8       ,  209.06666667,\n",
       "         209.33333333,  209.6       ,  209.86666667,  210.13333333,\n",
       "         210.4       ,  210.66666667,  210.93333333,  211.2       ,\n",
       "         211.46666667,  211.73333333,  212.        ]),\n",
       " <a list of 30 Patch objects>)"
      ]
     },
     "execution_count": 238,
     "metadata": {},
     "output_type": "execute_result"
    },
    {
     "data": {
      "image/png": "[encoded data removed]",
      "text/plain": [
       "<matplotlib.figure.Figure at 0x7f19e4e45390>"
      ]
     },
     "metadata": {},
     "output_type": "display_data"
    }
   ],
   "source": [
    "plt.hist((np.log(y_true) + 200), 30, range=[204, 212], facecolor='gray', align='mid')"
   ]
  },
  {
   "cell_type": "code",
   "execution_count": null,
   "metadata": {
    "collapsed": true
   },
   "outputs": [],
   "source": []
  }
 ],
 "metadata": {
  "anaconda-cloud": {},
  "kernelspec": {
   "display_name": "Python [conda root]",
   "language": "python",
   "name": "conda-root-py"
  },
  "language_info": {
   "codemirror_mode": {
    "name": "ipython",
    "version": 2
   },
   "file_extension": ".py",
   "mimetype": "text/x-python",
   "name": "python",
   "nbconvert_exporter": "python",
   "pygments_lexer": "ipython2",
   "version": "2.7.12"
  }
 },
 "nbformat": 4,
 "nbformat_minor": 1
}

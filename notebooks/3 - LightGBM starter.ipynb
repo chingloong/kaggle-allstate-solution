{
 "cells": [
  {
   "cell_type": "code",
   "execution_count": 2,
   "metadata": {
    "collapsed": false
   },
   "outputs": [],
   "source": [
    "import os\n",
    "\n",
    "import pandas as pd\n",
    "import numpy as np\n",
    "\n",
    "from pylightgbm.models import GBMRegressor\n",
    "\n",
    "from sklearn.base import TransformerMixin\n",
    "from sklearn.preprocessing import LabelEncoder\n",
    "from sklearn.metrics import mean_absolute_error\n",
    "from sklearn.model_selection import KFold\n",
    "from sklearn.model_selection import train_test_split"
   ]
  },
  {
   "cell_type": "code",
   "execution_count": 4,
   "metadata": {
    "collapsed": false
   },
   "outputs": [],
   "source": [
    "model = GBMRegressor(\n",
    "    num_threads=-1,\n",
    "    learning_rate = 0.03,\n",
    "    num_iterations = 5000, \n",
    "    num_leaves=250,\n",
    "    verbose = False,\n",
    "    early_stopping_round = 50,\n",
    "    feature_fraction = 0.8,\n",
    "    bagging_fraction = 0.8,\n",
    ") "
   ]
  },
  {
   "cell_type": "code",
   "execution_count": 5,
   "metadata": {
    "collapsed": false
   },
   "outputs": [],
   "source": [
    "df = pd.read_csv('../raw_data/train.csv')\n",
    "df_test = pd.read_csv('../raw_data/test.csv')\n",
    "X = df.drop(['loss'], 1)\n",
    "y = df.loss\n",
    "X_test = df_test"
   ]
  },
  {
   "cell_type": "code",
   "execution_count": 6,
   "metadata": {
    "collapsed": true
   },
   "outputs": [],
   "source": [
    "cv = KFold(n_splits=3)"
   ]
  },
  {
   "cell_type": "code",
   "execution_count": null,
   "metadata": {
    "collapsed": true
   },
   "outputs": [],
   "source": []
  },
  {
   "cell_type": "code",
   "execution_count": null,
   "metadata": {
    "collapsed": true
   },
   "outputs": [],
   "source": []
  },
  {
   "cell_type": "code",
   "execution_count": 7,
   "metadata": {
    "collapsed": false
   },
   "outputs": [],
   "source": [
    "class FeatureExtractor(TransformerMixin):\n",
    "       \n",
    "    def fit(self, df_1, df_2):\n",
    "        df = pd.concat([df_1, df_2], axis=0)\n",
    "        self.cat_columns = [col for col in df.columns if col[:3] == 'cat']\n",
    "        self.le_dict = {}\n",
    "        \n",
    "        for col in self.cat_columns:\n",
    "            self.le_dict[col] = LabelEncoder().fit(df[col])\n",
    "        \n",
    "        return self\n",
    "    \n",
    "    def transform(self, df):\n",
    "        df = df.copy()\n",
    "        \n",
    "        df.drop(['id'], 1, inplace=True)\n",
    "        \n",
    "        for col in self.cat_columns:\n",
    "            df[col] = self.le_dict[col].transform(df[col])\n",
    "        return df"
   ]
  },
  {
   "cell_type": "code",
   "execution_count": 8,
   "metadata": {
    "collapsed": true
   },
   "outputs": [],
   "source": [
    "def target_transform(y):\n",
    "    return np.log(y + 200)\n",
    "\n",
    "\n",
    "def target_inverse_transform(y_tr):\n",
    "    return np.exp(y_tr) - 200\n",
    "\n",
    "def mae_eval(y_true, y_pred_tr):\n",
    "    y_pred = target_inverse_transform(y_pred_tr)\n",
    "    return mean_absolute_error(y_true, y_pred)"
   ]
  },
  {
   "cell_type": "code",
   "execution_count": 9,
   "metadata": {
    "collapsed": true
   },
   "outputs": [],
   "source": [
    "fe = FeatureExtractor().fit(X, X_test)\n",
    "X_tr = fe.transform(X)"
   ]
  },
  {
   "cell_type": "code",
   "execution_count": 10,
   "metadata": {
    "collapsed": true
   },
   "outputs": [],
   "source": [
    "X_train, X_val, y_train, y_val = train_test_split(X_tr, y, test_size=0.2, random_state=100)"
   ]
  },
  {
   "cell_type": "code",
   "execution_count": 11,
   "metadata": {
    "collapsed": false
   },
   "outputs": [
    {
     "name": "stdout",
     "output_type": "stream",
     "text": [
      "366\n",
      "MAE = 1137.26\n"
     ]
    }
   ],
   "source": [
    "model.fit(\n",
    "    X_train.values, \n",
    "    target_transform(y_train.values), \n",
    "    test_data = [(\n",
    "        X_val.values, \n",
    "        target_transform(y_val.values)\n",
    "    )]\n",
    ")\n",
    "print model.best_round\n",
    "y_pred = target_inverse_transform(model.predict(X_val))\n",
    "score = mean_absolute_error(y_val, y_pred)\n",
    "print 'MAE = {:.2f}'.format(score)"
   ]
  },
  {
   "cell_type": "code",
   "execution_count": 37,
   "metadata": {
    "collapsed": false
   },
   "outputs": [
    {
     "name": "stdout",
     "output_type": "stream",
     "text": [
      "697\n",
      "473\n",
      "534\n",
      "MAE = 1141.31 +- 2.67\n",
      "CPU times: user 46.3 s, sys: 2.49 s, total: 48.8 s\n",
      "Wall time: 1min 32s\n"
     ]
    }
   ],
   "source": [
    "%%time\n",
    "\n",
    "scores = []\n",
    "for train, val in cv.split(X_tr):\n",
    "    x_train = X_tr.iloc[train,:]\n",
    "    x_val = X_tr.iloc[val,:]\n",
    "    y_train = y[train]\n",
    "    y_val = y[val]\n",
    "    \n",
    "    model.fit(\n",
    "        x_train.values, \n",
    "        target_transform(y_train.values), \n",
    "        test_data = [(\n",
    "            x_val.values, \n",
    "            target_transform(y_val.values)\n",
    "        )]\n",
    "    )\n",
    "    print model.best_round\n",
    "    \n",
    "    y_pred = target_inverse_transform(model.predict(x_val))\n",
    "    score = mean_absolute_error(y_val, y_pred)\n",
    "    scores.append(score)\n",
    "print 'MAE = {:.2f} +- {:.2f}'.format(np.mean(scores), np.std(scores))"
   ]
  },
  {
   "cell_type": "code",
   "execution_count": 20,
   "metadata": {
    "collapsed": false
   },
   "outputs": [
    {
     "data": {
      "text/plain": [
       "38069.174202785995"
      ]
     },
     "execution_count": 20,
     "metadata": {},
     "output_type": "execute_result"
    }
   ],
   "source": [
    "np.max(y_pred)"
   ]
  },
  {
   "cell_type": "code",
   "execution_count": 38,
   "metadata": {
    "collapsed": true
   },
   "outputs": [],
   "source": [
    "model = GBMRegressor(\n",
    "    num_threads=-1,\n",
    "    learning_rate = 0.03,\n",
    "    num_iterations = 700, \n",
    "    verbose = False, \n",
    "    early_stopping_round = 50,\n",
    "    feature_fraction = 0.8,\n",
    "    bagging_fraction = 0.8,\n",
    ") "
   ]
  },
  {
   "cell_type": "code",
   "execution_count": 39,
   "metadata": {
    "collapsed": false
   },
   "outputs": [],
   "source": [
    "model.fit(\n",
    "        X_tr.values, \n",
    "        target_transform(y.values)\n",
    "    )"
   ]
  },
  {
   "cell_type": "code",
   "execution_count": 40,
   "metadata": {
    "collapsed": true
   },
   "outputs": [],
   "source": [
    "X_tr_test = fe.transform(X_test)"
   ]
  },
  {
   "cell_type": "code",
   "execution_count": 41,
   "metadata": {
    "collapsed": false
   },
   "outputs": [],
   "source": [
    "y_pred = target_inverse_transform(model.predict(X_tr_test))"
   ]
  },
  {
   "cell_type": "code",
   "execution_count": 42,
   "metadata": {
    "collapsed": true
   },
   "outputs": [],
   "source": [
    "def get_submission(y_sub):\n",
    "    df_sub = df_test[['id']].copy()\n",
    "    df_sub['loss'] = y_sub\n",
    "    return df_sub"
   ]
  },
  {
   "cell_type": "code",
   "execution_count": 43,
   "metadata": {
    "collapsed": false
   },
   "outputs": [],
   "source": [
    "submission = get_submission(y_pred)"
   ]
  },
  {
   "cell_type": "code",
   "execution_count": 44,
   "metadata": {
    "collapsed": true
   },
   "outputs": [],
   "source": [
    "submission.to_csv('../submissions/11_19_2.csv', index=False)"
   ]
  },
  {
   "cell_type": "code",
   "execution_count": null,
   "metadata": {
    "collapsed": true
   },
   "outputs": [],
   "source": []
  }
 ],
 "metadata": {
  "anaconda-cloud": {},
  "kernelspec": {
   "display_name": "Python [conda root]",
   "language": "python",
   "name": "conda-root-py"
  },
  "language_info": {
   "codemirror_mode": {
    "name": "ipython",
    "version": 2
   },
   "file_extension": ".py",
   "mimetype": "text/x-python",
   "name": "python",
   "nbconvert_exporter": "python",
   "pygments_lexer": "ipython2",
   "version": "2.7.12"
  }
 },
 "nbformat": 4,
 "nbformat_minor": 1
}
